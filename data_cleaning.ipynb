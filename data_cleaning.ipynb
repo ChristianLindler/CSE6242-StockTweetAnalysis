{
 "cells": [
  {
   "cell_type": "markdown",
   "metadata": {},
   "source": [
    "# Data Description"
   ]
  },
  {
   "cell_type": "markdown",
   "metadata": {},
   "source": [
    "### Company.csv\n",
    "Just maps Ticker Symbol to company name. Not that useful\n",
    "\n",
    "### CompanyValues\n",
    "Holds market values for companies. ticker_symbol, day_ate, and close_value are the important columns\n",
    "\n",
    "### Company_Tweet\n",
    "Maps tweet ids to the company they're about\n",
    "\n",
    "### Tweet\n",
    "Holds our tweet data. Relevant columns are tweet_id, post_date, body, (like_num/retweet_num could be used to scale based on reach maybe, but for now lets ignore)"
   ]
  },
  {
   "cell_type": "markdown",
   "metadata": {},
   "source": [
    "# Imports"
   ]
  },
  {
   "cell_type": "code",
   "execution_count": null,
   "metadata": {},
   "outputs": [],
   "source": [
    "import pandas as pd"
   ]
  },
  {
   "cell_type": "markdown",
   "metadata": {},
   "source": [
    "# Load and clean data"
   ]
  },
  {
   "cell_type": "code",
   "execution_count": 2,
   "metadata": {},
   "outputs": [],
   "source": [
    "company_values_file_path = \"./data/CompanyValues.csv\"\n",
    "tweet_file_path = \"./data/Tweet.csv\"\n",
    "company_tweet_file_path = \"./data/Company_Tweet.csv\"\n",
    "\n",
    "company_values_df = pd.read_csv(company_values_file_path)\n",
    "tweet_df = pd.read_csv(tweet_file_path)\n",
    "company_tweet_df = pd.read_csv(company_tweet_file_path)"
   ]
  },
  {
   "cell_type": "markdown",
   "metadata": {},
   "source": [
    "### Value Data"
   ]
  },
  {
   "cell_type": "code",
   "execution_count": 3,
   "metadata": {},
   "outputs": [
    {
     "data": {
      "text/html": [
       "<div>\n",
       "<style scoped>\n",
       "    .dataframe tbody tr th:only-of-type {\n",
       "        vertical-align: middle;\n",
       "    }\n",
       "\n",
       "    .dataframe tbody tr th {\n",
       "        vertical-align: top;\n",
       "    }\n",
       "\n",
       "    .dataframe thead th {\n",
       "        text-align: right;\n",
       "    }\n",
       "</style>\n",
       "<table border=\"1\" class=\"dataframe\">\n",
       "  <thead>\n",
       "    <tr style=\"text-align: right;\">\n",
       "      <th></th>\n",
       "      <th>ticker_symbol</th>\n",
       "      <th>day_date</th>\n",
       "      <th>close_value</th>\n",
       "    </tr>\n",
       "  </thead>\n",
       "  <tbody>\n",
       "    <tr>\n",
       "      <th>0</th>\n",
       "      <td>AAPL</td>\n",
       "      <td>2020-05-29</td>\n",
       "      <td>317.94</td>\n",
       "    </tr>\n",
       "    <tr>\n",
       "      <th>1</th>\n",
       "      <td>AAPL</td>\n",
       "      <td>2020-05-28</td>\n",
       "      <td>318.25</td>\n",
       "    </tr>\n",
       "    <tr>\n",
       "      <th>2</th>\n",
       "      <td>AAPL</td>\n",
       "      <td>2020-05-27</td>\n",
       "      <td>318.11</td>\n",
       "    </tr>\n",
       "    <tr>\n",
       "      <th>3</th>\n",
       "      <td>AAPL</td>\n",
       "      <td>2020-05-26</td>\n",
       "      <td>316.73</td>\n",
       "    </tr>\n",
       "    <tr>\n",
       "      <th>4</th>\n",
       "      <td>AAPL</td>\n",
       "      <td>2020-05-22</td>\n",
       "      <td>318.89</td>\n",
       "    </tr>\n",
       "  </tbody>\n",
       "</table>\n",
       "</div>"
      ],
      "text/plain": [
       "  ticker_symbol    day_date  close_value\n",
       "0          AAPL  2020-05-29       317.94\n",
       "1          AAPL  2020-05-28       318.25\n",
       "2          AAPL  2020-05-27       318.11\n",
       "3          AAPL  2020-05-26       316.73\n",
       "4          AAPL  2020-05-22       318.89"
      ]
     },
     "execution_count": 3,
     "metadata": {},
     "output_type": "execute_result"
    }
   ],
   "source": [
    "company_values_df.drop(['volume', 'open_value', 'high_value', \"low_value\"], axis=1, inplace=True)\n",
    "company_values_df.head()"
   ]
  },
  {
   "cell_type": "markdown",
   "metadata": {},
   "source": [
    "### Tweet Data"
   ]
  },
  {
   "cell_type": "code",
   "execution_count": 4,
   "metadata": {},
   "outputs": [
    {
     "name": "stdout",
     "output_type": "stream",
     "text": [
      "Before filtering, we had 3717964 tweets\n",
      "2058\n"
     ]
    },
    {
     "data": {
      "text/html": [
       "<div>\n",
       "<style scoped>\n",
       "    .dataframe tbody tr th:only-of-type {\n",
       "        vertical-align: middle;\n",
       "    }\n",
       "\n",
       "    .dataframe tbody tr th {\n",
       "        vertical-align: top;\n",
       "    }\n",
       "\n",
       "    .dataframe thead th {\n",
       "        text-align: right;\n",
       "    }\n",
       "</style>\n",
       "<table border=\"1\" class=\"dataframe\">\n",
       "  <thead>\n",
       "    <tr style=\"text-align: right;\">\n",
       "      <th></th>\n",
       "      <th>tweet_id</th>\n",
       "      <th>writer</th>\n",
       "      <th>post_date</th>\n",
       "      <th>body</th>\n",
       "      <th>comment_num</th>\n",
       "      <th>retweet_num</th>\n",
       "      <th>like_num</th>\n",
       "    </tr>\n",
       "  </thead>\n",
       "  <tbody>\n",
       "    <tr>\n",
       "      <th>25</th>\n",
       "      <td>550453624258965505</td>\n",
       "      <td>WSJ</td>\n",
       "      <td>1420073345</td>\n",
       "      <td>Jeff Bezos lost $7.4 billion in Amazon's worst...</td>\n",
       "      <td>21</td>\n",
       "      <td>139</td>\n",
       "      <td>57</td>\n",
       "    </tr>\n",
       "    <tr>\n",
       "      <th>92</th>\n",
       "      <td>550489146624856064</td>\n",
       "      <td>CNBC</td>\n",
       "      <td>1420081814</td>\n",
       "      <td>Earlier this month, a mysterious glitch caused...</td>\n",
       "      <td>4</td>\n",
       "      <td>18</td>\n",
       "      <td>17</td>\n",
       "    </tr>\n",
       "    <tr>\n",
       "      <th>105</th>\n",
       "      <td>550499176422051840</td>\n",
       "      <td>WSJ</td>\n",
       "      <td>1420084206</td>\n",
       "      <td>Jeff Bezos lost $7.4 billion in Amazon's worst...</td>\n",
       "      <td>17</td>\n",
       "      <td>113</td>\n",
       "      <td>57</td>\n",
       "    </tr>\n",
       "    <tr>\n",
       "      <th>315</th>\n",
       "      <td>550679033395306497</td>\n",
       "      <td>seeitmarket</td>\n",
       "      <td>1420127087</td>\n",
       "      <td>New Post - \"Apple Stock Pullback: Price Target...</td>\n",
       "      <td>0</td>\n",
       "      <td>3</td>\n",
       "      <td>7</td>\n",
       "    </tr>\n",
       "    <tr>\n",
       "      <th>343</th>\n",
       "      <td>550690489008394241</td>\n",
       "      <td>IBDinvestors</td>\n",
       "      <td>1420129818</td>\n",
       "      <td>2015 technology forecasts: Wearable technology...</td>\n",
       "      <td>0</td>\n",
       "      <td>8</td>\n",
       "      <td>11</td>\n",
       "    </tr>\n",
       "  </tbody>\n",
       "</table>\n",
       "</div>"
      ],
      "text/plain": [
       "               tweet_id        writer   post_date  \\\n",
       "25   550453624258965505           WSJ  1420073345   \n",
       "92   550489146624856064          CNBC  1420081814   \n",
       "105  550499176422051840           WSJ  1420084206   \n",
       "315  550679033395306497   seeitmarket  1420127087   \n",
       "343  550690489008394241  IBDinvestors  1420129818   \n",
       "\n",
       "                                                  body  comment_num  \\\n",
       "25   Jeff Bezos lost $7.4 billion in Amazon's worst...           21   \n",
       "92   Earlier this month, a mysterious glitch caused...            4   \n",
       "105  Jeff Bezos lost $7.4 billion in Amazon's worst...           17   \n",
       "315  New Post - \"Apple Stock Pullback: Price Target...            0   \n",
       "343  2015 technology forecasts: Wearable technology...            0   \n",
       "\n",
       "     retweet_num  like_num  \n",
       "25           139        57  \n",
       "92            18        17  \n",
       "105          113        57  \n",
       "315            3         7  \n",
       "343            8        11  "
      ]
     },
     "execution_count": 4,
     "metadata": {},
     "output_type": "execute_result"
    }
   ],
   "source": [
    "print(f\"Before filtering, we had {len(tweet_df)} tweets\")\n",
    "tweet_df = tweet_df[tweet_df['like_num'] > 5]\n",
    "print(len(f\"After we have {tweet_df}\"))\n",
    "tweet_df.head()"
   ]
  },
  {
   "cell_type": "code",
   "execution_count": 13,
   "metadata": {},
   "outputs": [
    {
     "data": {
      "text/html": [
       "<div>\n",
       "<style scoped>\n",
       "    .dataframe tbody tr th:only-of-type {\n",
       "        vertical-align: middle;\n",
       "    }\n",
       "\n",
       "    .dataframe tbody tr th {\n",
       "        vertical-align: top;\n",
       "    }\n",
       "\n",
       "    .dataframe thead th {\n",
       "        text-align: right;\n",
       "    }\n",
       "</style>\n",
       "<table border=\"1\" class=\"dataframe\">\n",
       "  <thead>\n",
       "    <tr style=\"text-align: right;\">\n",
       "      <th></th>\n",
       "      <th>post_date</th>\n",
       "      <th>body</th>\n",
       "      <th>like_num</th>\n",
       "      <th>ticker_symbol</th>\n",
       "    </tr>\n",
       "  </thead>\n",
       "  <tbody>\n",
       "    <tr>\n",
       "      <th>0</th>\n",
       "      <td>1420073345</td>\n",
       "      <td>Jeff Bezos lost $7.4 billion in Amazon's worst...</td>\n",
       "      <td>57</td>\n",
       "      <td>AMZN</td>\n",
       "    </tr>\n",
       "    <tr>\n",
       "      <th>1</th>\n",
       "      <td>1420081814</td>\n",
       "      <td>Earlier this month, a mysterious glitch caused...</td>\n",
       "      <td>17</td>\n",
       "      <td>AAPL</td>\n",
       "    </tr>\n",
       "    <tr>\n",
       "      <th>2</th>\n",
       "      <td>1420084206</td>\n",
       "      <td>Jeff Bezos lost $7.4 billion in Amazon's worst...</td>\n",
       "      <td>57</td>\n",
       "      <td>AMZN</td>\n",
       "    </tr>\n",
       "    <tr>\n",
       "      <th>3</th>\n",
       "      <td>1420127087</td>\n",
       "      <td>New Post - \"Apple Stock Pullback: Price Target...</td>\n",
       "      <td>7</td>\n",
       "      <td>AAPL</td>\n",
       "    </tr>\n",
       "    <tr>\n",
       "      <th>4</th>\n",
       "      <td>1420129818</td>\n",
       "      <td>2015 technology forecasts: Wearable technology...</td>\n",
       "      <td>11</td>\n",
       "      <td>AAPL</td>\n",
       "    </tr>\n",
       "  </tbody>\n",
       "</table>\n",
       "</div>"
      ],
      "text/plain": [
       "    post_date                                               body  like_num  \\\n",
       "0  1420073345  Jeff Bezos lost $7.4 billion in Amazon's worst...        57   \n",
       "1  1420081814  Earlier this month, a mysterious glitch caused...        17   \n",
       "2  1420084206  Jeff Bezos lost $7.4 billion in Amazon's worst...        57   \n",
       "3  1420127087  New Post - \"Apple Stock Pullback: Price Target...         7   \n",
       "4  1420129818  2015 technology forecasts: Wearable technology...        11   \n",
       "\n",
       "  ticker_symbol  \n",
       "0          AMZN  \n",
       "1          AAPL  \n",
       "2          AMZN  \n",
       "3          AAPL  \n",
       "4          AAPL  "
      ]
     },
     "execution_count": 13,
     "metadata": {},
     "output_type": "execute_result"
    }
   ],
   "source": [
    "# Now we add the ticker symbol to each row, and drop unneeded columns\n",
    "merged_tweet_df = tweet_df.merge(company_tweet_df, on='tweet_id', how='left')\n",
    "merged_tweet_df.drop(['writer', 'comment_num', 'retweet_num', \"tweet_id\"], axis=1, inplace=True)\n",
    "merged_tweet_df.head()"
   ]
  },
  {
   "cell_type": "code",
   "execution_count": 14,
   "metadata": {},
   "outputs": [
    {
     "data": {
      "text/html": [
       "<div>\n",
       "<style scoped>\n",
       "    .dataframe tbody tr th:only-of-type {\n",
       "        vertical-align: middle;\n",
       "    }\n",
       "\n",
       "    .dataframe tbody tr th {\n",
       "        vertical-align: top;\n",
       "    }\n",
       "\n",
       "    .dataframe thead th {\n",
       "        text-align: right;\n",
       "    }\n",
       "</style>\n",
       "<table border=\"1\" class=\"dataframe\">\n",
       "  <thead>\n",
       "    <tr style=\"text-align: right;\">\n",
       "      <th></th>\n",
       "      <th>post_date</th>\n",
       "      <th>body</th>\n",
       "      <th>like_num</th>\n",
       "      <th>ticker_symbol</th>\n",
       "    </tr>\n",
       "  </thead>\n",
       "  <tbody>\n",
       "    <tr>\n",
       "      <th>0</th>\n",
       "      <td>2015-01-01</td>\n",
       "      <td>Jeff Bezos lost $7.4 billion in Amazon's worst...</td>\n",
       "      <td>57</td>\n",
       "      <td>AMZN</td>\n",
       "    </tr>\n",
       "    <tr>\n",
       "      <th>1</th>\n",
       "      <td>2015-01-01</td>\n",
       "      <td>Earlier this month, a mysterious glitch caused...</td>\n",
       "      <td>17</td>\n",
       "      <td>AAPL</td>\n",
       "    </tr>\n",
       "    <tr>\n",
       "      <th>2</th>\n",
       "      <td>2015-01-01</td>\n",
       "      <td>Jeff Bezos lost $7.4 billion in Amazon's worst...</td>\n",
       "      <td>57</td>\n",
       "      <td>AMZN</td>\n",
       "    </tr>\n",
       "    <tr>\n",
       "      <th>3</th>\n",
       "      <td>2015-01-01</td>\n",
       "      <td>New Post - \"Apple Stock Pullback: Price Target...</td>\n",
       "      <td>7</td>\n",
       "      <td>AAPL</td>\n",
       "    </tr>\n",
       "    <tr>\n",
       "      <th>4</th>\n",
       "      <td>2015-01-01</td>\n",
       "      <td>2015 technology forecasts: Wearable technology...</td>\n",
       "      <td>11</td>\n",
       "      <td>AAPL</td>\n",
       "    </tr>\n",
       "  </tbody>\n",
       "</table>\n",
       "</div>"
      ],
      "text/plain": [
       "    post_date                                               body  like_num  \\\n",
       "0  2015-01-01  Jeff Bezos lost $7.4 billion in Amazon's worst...        57   \n",
       "1  2015-01-01  Earlier this month, a mysterious glitch caused...        17   \n",
       "2  2015-01-01  Jeff Bezos lost $7.4 billion in Amazon's worst...        57   \n",
       "3  2015-01-01  New Post - \"Apple Stock Pullback: Price Target...         7   \n",
       "4  2015-01-01  2015 technology forecasts: Wearable technology...        11   \n",
       "\n",
       "  ticker_symbol  \n",
       "0          AMZN  \n",
       "1          AAPL  \n",
       "2          AMZN  \n",
       "3          AAPL  \n",
       "4          AAPL  "
      ]
     },
     "execution_count": 14,
     "metadata": {},
     "output_type": "execute_result"
    }
   ],
   "source": [
    "# Change the post date column to be in YYYY-MM-DD\n",
    "merged_tweet_df['post_date'] = pd.to_datetime(merged_tweet_df['post_date'], unit='s').dt.strftime('%Y-%m-%d')\n",
    "merged_tweet_df.head()"
   ]
  },
  {
   "cell_type": "markdown",
   "metadata": {},
   "source": [
    "### Save this filtered data to CSV"
   ]
  },
  {
   "cell_type": "code",
   "execution_count": 16,
   "metadata": {},
   "outputs": [],
   "source": [
    "merged_tweet_df.to_csv(\"./data/filtered_tweet_data.csv\")\n",
    "company_values_df.to_csv(\"./data/filtered_company_values.csv\")"
   ]
  }
 ],
 "metadata": {
  "kernelspec": {
   "display_name": "Python 3",
   "language": "python",
   "name": "python3"
  },
  "language_info": {
   "codemirror_mode": {
    "name": "ipython",
    "version": 3
   },
   "file_extension": ".py",
   "mimetype": "text/x-python",
   "name": "python",
   "nbconvert_exporter": "python",
   "pygments_lexer": "ipython3",
   "version": "3.13.2"
  }
 },
 "nbformat": 4,
 "nbformat_minor": 2
}
